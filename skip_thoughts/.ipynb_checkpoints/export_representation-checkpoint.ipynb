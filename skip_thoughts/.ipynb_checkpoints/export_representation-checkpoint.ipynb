{
 "cells": [
  {
   "cell_type": "code",
   "execution_count": 1,
   "metadata": {},
   "outputs": [
    {
     "name": "stdout",
     "output_type": "stream",
     "text": [
      "CPU times: user 0 ns, sys: 0 ns, total: 0 ns\n",
      "Wall time: 9.3 µs\n"
     ]
    }
   ],
   "source": [
    "%time\n",
    "import os\n",
    "import numpy as np\n",
    "import sys\n",
    "parent_dir = os.path.abspath(os.getcwd()+'/..')+'/' \n",
    "sys.path.append(parent_dir)\n",
    "\n",
    "from utils.save import load_pickle, save_pickle\n",
    "from encoder import UsableEncoder"
   ]
  },
  {
   "cell_type": "code",
   "execution_count": 2,
   "metadata": {},
   "outputs": [],
   "source": [
    "dic = load_pickle('../data/dic_20190819.pickle')\n",
    "amt_GI = load_pickle('../data/amt_hGI_pos.pickle')\n",
    "for i, v in dic.items():\n",
    "    if i in amt_GI.keys():\n",
    "        v['AMT'] = amt_GI[i]\n",
    "ls = list(amt_GI.keys())"
   ]
  },
  {
   "cell_type": "code",
   "execution_count": 3,
   "metadata": {},
   "outputs": [],
   "source": [
    "def exportX(filename):\n",
    "    X = []\n",
    "    for i, v in dic.items():\n",
    "        if i in ls:\n",
    "            recipe = v['name_UNK2_none'] + v['ingredients_UNK2_none'] + v['directions_UNK2_none']\n",
    "            X.append(np.mean(encoder.encode([' '.join(sent) for sent in recipe]), axis = 0))\n",
    "    save_pickle(filename, np.stack(X))"
   ]
  },
  {
   "cell_type": "code",
   "execution_count": 5,
   "metadata": {},
   "outputs": [
    {
     "name": "stdout",
     "output_type": "stream",
     "text": [
      "Preparing the DataLoader. Loading the word dictionary\n",
      "Making reverse dictionary\n",
      "Loading encoder from the saved model at ../data/skip_thoughts_corpus_71/skip-best-loss17.256-epoch499800\n",
      "using cuda\n"
     ]
    }
   ],
   "source": [
    "path = '../data/skip_thoughts_corpus_71'\n",
    "encoder = UsableEncoder(path+'/skip-best-loss17.256-epoch499800',WORD_DICT = path+'.csv.pkl')\n",
    "exportX('../data/X_skipthoughts_500k.pickle')"
   ]
  },
  {
   "cell_type": "code",
   "execution_count": 7,
   "metadata": {},
   "outputs": [
    {
     "name": "stdout",
     "output_type": "stream",
     "text": [
      "Preparing the DataLoader. Loading the word dictionary\n",
      "Making reverse dictionary\n",
      "Loading encoder from the saved model at ../data/skip_thoughts_corpus_71/skip-best-loss19.218-epoch  100\n",
      "using cuda\n"
     ]
    }
   ],
   "source": [
    "path = '../data/skip_thoughts_corpus_71'\n",
    "encoder = UsableEncoder(path+'/skip-best-loss19.218-epoch  100',WORD_DICT = path+'.csv.pkl')\n",
    "exportX('../data/X_skipthoughts_100.pickle')"
   ]
  },
  {
   "cell_type": "code",
   "execution_count": 4,
   "metadata": {},
   "outputs": [
    {
     "name": "stdout",
     "output_type": "stream",
     "text": [
      "Preparing the DataLoader. Loading the word dictionary\n",
      "Making reverse dictionary\n",
      "Loading encoder from the saved model at ../data/full_0420_85/skip-best-loss15.565-epoch404100\n",
      "using cuda\n"
     ]
    }
   ],
   "source": [
    "path = '../data/full_0420_85'\n",
    "encoder = UsableEncoder(path+'/skip-best-loss15.565-epoch404100',WORD_DICT = path+'.csv.pkl')\n",
    "exportX('../data/X_skipthoughts_400k.pickle')"
   ]
  },
  {
   "cell_type": "code",
   "execution_count": 4,
   "metadata": {},
   "outputs": [
    {
     "name": "stdout",
     "output_type": "stream",
     "text": [
      "Preparing the DataLoader. Loading the word dictionary\n",
      "Making reverse dictionary\n",
      "Loading encoder from the saved model at ../data/full_0420_85/skip-best-loss15.713-epoch115700\n",
      "using cuda\n"
     ]
    }
   ],
   "source": [
    "path = '../data/full_0420_85'\n",
    "encoder = UsableEncoder(path+'/skip-best-loss15.713-epoch115700',WORD_DICT = path+'.csv.pkl')\n",
    "exportX('../data/X_skipthoughts_100k.pickle')"
   ]
  },
  {
   "cell_type": "code",
   "execution_count": 7,
   "metadata": {},
   "outputs": [
    {
     "name": "stdout",
     "output_type": "stream",
     "text": [
      "Preparing the DataLoader. Loading the word dictionary\n",
      "Making reverse dictionary\n",
      "Loading encoder from the saved model at ../data/skip_thoughts_corpus_71/skip-best-loss17.225-epoch 7300\n",
      "using cuda\n"
     ]
    }
   ],
   "source": [
    "path = '../data/skip_thoughts_corpus_71'\n",
    "encoder = UsableEncoder(path+'/skip-best-loss17.225-epoch 7300',WORD_DICT = path+'.csv.pkl')\n",
    "exportX('../data/X_skipthoughts_7k.pickle')"
   ]
  },
  {
   "cell_type": "markdown",
   "metadata": {},
   "source": [
    "### pretrained word2vec"
   ]
  },
  {
   "cell_type": "code",
   "execution_count": 4,
   "metadata": {},
   "outputs": [
    {
     "name": "stdout",
     "output_type": "stream",
     "text": [
      "Preparing the DataLoader. Loading the word dictionary\n",
      "Making reverse dictionary\n",
      "Loading encoder from the saved model at ../data/skip_thoughts_corpus_71/skip-best-loss18.252-epoch  500\n",
      "using cuda\n"
     ]
    }
   ],
   "source": [
    "path = '../data/skip_thoughts_corpus_71'\n",
    "encoder = UsableEncoder(path+'/skip-best-loss18.252-epoch  500',WORD_DICT = path+'.csv.pkl')\n",
    "exportX('../data/X_skipthoughts_500.pickle')"
   ]
  },
  {
   "cell_type": "code",
   "execution_count": 5,
   "metadata": {},
   "outputs": [
    {
     "name": "stdout",
     "output_type": "stream",
     "text": [
      "Preparing the DataLoader. Loading the word dictionary\n",
      "Making reverse dictionary\n",
      "Loading encoder from the saved model at ../data/skip_thoughts_corpus_71/skip-best-loss17.806-epoch 2900\n",
      "using cuda\n"
     ]
    }
   ],
   "source": [
    "path = '../data/skip_thoughts_corpus_71'\n",
    "encoder = UsableEncoder(path+'/skip-best-loss17.806-epoch 2900',WORD_DICT = path+'.csv.pkl')\n",
    "exportX('../data/X_skipthoughts_3k.pickle')"
   ]
  },
  {
   "cell_type": "code",
   "execution_count": 7,
   "metadata": {},
   "outputs": [
    {
     "name": "stdout",
     "output_type": "stream",
     "text": [
      "Preparing the DataLoader. Loading the word dictionary\n",
      "Making reverse dictionary\n",
      "Loading encoder from the saved model at ../data/skip_thoughts_corpus_71/skip-best-loss17.372-epoch 6500\n",
      "using cuda\n"
     ]
    }
   ],
   "source": [
    "path = '../data/skip_thoughts_corpus_71'\n",
    "encoder = UsableEncoder(path+'/skip-best-loss17.372-epoch 6500',WORD_DICT = path+'.csv.pkl')\n",
    "exportX('../data/X_skipthoughts_6k.pickle')"
   ]
  },
  {
   "cell_type": "code",
   "execution_count": 8,
   "metadata": {},
   "outputs": [
    {
     "name": "stdout",
     "output_type": "stream",
     "text": [
      "Preparing the DataLoader. Loading the word dictionary\n",
      "Making reverse dictionary\n",
      "Loading encoder from the saved model at ../data/skip_thoughts_corpus_71/skip-best-loss17.134-epoch25400\n",
      "using cuda\n"
     ]
    }
   ],
   "source": [
    "path = '../data/skip_thoughts_corpus_71'\n",
    "encoder = UsableEncoder(path+'/skip-best-loss17.134-epoch25400',WORD_DICT = path+'.csv.pkl')\n",
    "exportX('../data/X_skipthoughts_25k.pickle')"
   ]
  },
  {
   "cell_type": "markdown",
   "metadata": {},
   "source": [
    "#### initiate the word embedding vectors from Salvador's pretrained model"
   ]
  },
  {
   "cell_type": "code",
   "execution_count": 54,
   "metadata": {},
   "outputs": [
    {
     "name": "stderr",
     "output_type": "stream",
     "text": [
      "/usr/local/lib/python3.5/dist-packages/ipykernel_launcher.py:3: DeprecationWarning: Call to deprecated `wv` (Attribute will be removed in 4.0.0, use self instead).\n",
      "  This is separate from the ipykernel package so we can avoid doing imports until\n",
      "/usr/local/lib/python3.5/dist-packages/ipykernel_launcher.py:4: DeprecationWarning: Call to deprecated `wv` (Attribute will be removed in 4.0.0, use self instead).\n",
      "  after removing the cwd from sys.path.\n"
     ]
    }
   ],
   "source": [
    "from gensim.models import KeyedVectors\n",
    "salvador = KeyedVectors.load_word2vec_format('../data/vocab.bin', binary = True)\n",
    "vocab = load_pickle('../data/skip_thoughts_corpus_71.csv.pkl')\n",
    "\n",
    "embedding = np.random.rand(20000,300)\n",
    "for word, idx in vocab.items():\n",
    "    if word in salvador.wv.vocab.keys():\n",
    "        embedding[idx,:] = salvador.wv[word]"
   ]
  },
  {
   "cell_type": "code",
   "execution_count": 57,
   "metadata": {},
   "outputs": [],
   "source": [
    "save_pickle('../data/embeddings_sk.pickle',embedding) # Prepare pretrained word embeddings for sentence embedding training"
   ]
  }
 ],
 "metadata": {
  "kernelspec": {
   "display_name": "Python 3",
   "language": "python",
   "name": "python3"
  },
  "language_info": {
   "codemirror_mode": {
    "name": "ipython",
    "version": 3
   },
   "file_extension": ".py",
   "mimetype": "text/x-python",
   "name": "python",
   "nbconvert_exporter": "python",
   "pygments_lexer": "ipython3",
   "version": "3.5.2"
  }
 },
 "nbformat": 4,
 "nbformat_minor": 4
}
