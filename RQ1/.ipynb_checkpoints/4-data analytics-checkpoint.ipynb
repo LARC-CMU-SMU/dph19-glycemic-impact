{
 "cells": [
  {
   "cell_type": "code",
   "execution_count": 1,
   "metadata": {},
   "outputs": [
    {
     "name": "stdout",
     "output_type": "stream",
     "text": [
      "CPU times: user 0 ns, sys: 0 ns, total: 0 ns\n",
      "Wall time: 8.11 µs\n"
     ]
    }
   ],
   "source": [
    "%time\n",
    "%load_ext autotime\n",
    "%load_ext autoreload\n",
    "%autoreload 2\n",
    "# add path\n",
    "import os \n",
    "import sys \n",
    "parent_dir = os.path.abspath(os.getcwd()+'/..')+'/' \n",
    "sys.path.append(parent_dir) \n",
    "\n",
    "# main\n",
    "import pandas as pd\n",
    "import numpy as np\n",
    "import seaborn as sns\n",
    "import matplotlib.pyplot as plt\n",
    "from copy import deepcopy\n",
    "\n",
    "from utils.path import dir_HugeFiles\n",
    "from utils.preprocessing import load\n",
    "from utils.save import make_dir, save_pickle, load_pickle, auto_save_csv, print_time, auto_save_pickle\n",
    "\n",
    "from scipy.stats import pearsonr, pointbiserialr\n",
    "from sync_google.access_gsheet import save_to_google, amt, load_google_df\n",
    "\n",
    "from pylab import rcParams\n",
    "rcParams['figure.figsize'] = [4.5, 3.0]\n",
    "from matplotlib import gridspec\n",
    "from scipy import stats"
   ]
  },
  {
   "cell_type": "code",
   "execution_count": 2,
   "metadata": {},
   "outputs": [
    {
     "name": "stdout",
     "output_type": "stream",
     "text": [
      "exist\n",
      "time: 14.1 s\n"
     ]
    }
   ],
   "source": [
    "dir_save = os.path.normpath(dir_HugeFiles+'dph/dic_20190607.pickle')\n",
    "dic = load(dir_save)"
   ]
  },
  {
   "cell_type": "code",
   "execution_count": 3,
   "metadata": {},
   "outputs": [
    {
     "name": "stdout",
     "output_type": "stream",
     "text": [
      "load the HD labels, there are 506 HD recipes\n",
      "time: 51 ms\n"
     ]
    }
   ],
   "source": [
    "amt_GI = load_pickle('../data/amt_hGI_pos.pickle')\n",
    "for i, v in dic.items():\n",
    "    if i in amt_GI.keys():\n",
    "        v['AMT'] = amt_GI[i]\n",
    "amt_ls = list(amt_GI.keys())\n",
    "ls = amt_ls\n",
    "print('load the HD labels, there are %d HD recipes' % sum(amt_GI.values()))"
   ]
  },
  {
   "cell_type": "markdown",
   "metadata": {},
   "source": [
    "### Derive the FSA color codes"
   ]
  },
  {
   "cell_type": "code",
   "execution_count": 4,
   "metadata": {},
   "outputs": [
    {
     "name": "stdout",
     "output_type": "stream",
     "text": [
      "time: 972 ms\n"
     ]
    }
   ],
   "source": [
    "for i, v in dic.items():\n",
    "    if i in ls:\n",
    "        if v['total fat']/v['servings']>10.5 and v['dry_weight']/v['servings'] >100:\n",
    "            score = 3\n",
    "        elif v['total fat/dry_weight']*100<=3:\n",
    "            score = 1\n",
    "        elif v['total fat/dry_weight']*100<=17.5:\n",
    "            score = 2\n",
    "        else:\n",
    "            score = 3\n",
    "        dic[i]['fsa_fat'] = score\n",
    "        \n",
    "        if v['saturated fat']/v['servings']>6 and v['dry_weight']/v['servings'] >100:\n",
    "            score = 3\n",
    "        elif v['saturated fat/dry_weight']*100<=1.5:\n",
    "            score = 1\n",
    "        elif v['saturated fat/dry_weight']*100<=5:\n",
    "            score = 2\n",
    "        else:\n",
    "            score = 3\n",
    "        dic[i]['fsa_saturated'] = score\n",
    "        \n",
    "        if v['sugars']/v['servings']>27 and v['dry_weight']/v['servings'] >100:\n",
    "            score = 3\n",
    "        elif v['sugars/dry_weight']*100<=5:\n",
    "            score = 1\n",
    "        elif v['sugars/dry_weight']*100<=22.5:\n",
    "            score = 2\n",
    "        else:\n",
    "            score = 3\n",
    "        dic[i]['fsa_sugar'] = score\n",
    "        \n",
    "        if v['sodium']/v['servings']/22.98*58.44>1.8 and v['sodium']/v['servings']/22.98*58.44 >100:\n",
    "            score = 3\n",
    "        elif v['sodium/dry_weight']/22.98*58.44*100/1000<=0.3:\n",
    "            score = 1\n",
    "        elif v['sodium/dry_weight']/22.98*58.44*100/1000<=1.5:\n",
    "            score = 2\n",
    "        else:\n",
    "            score = 3\n",
    "        dic[i]['fsa_salt'] = score\n",
    "        dic[i]['fsa_sum'] = dic[i]['fsa_fat']+dic[i]['fsa_saturated']+dic[i]['fsa_sugar']+dic[i]['fsa_salt']"
   ]
  },
  {
   "cell_type": "code",
   "execution_count": 5,
   "metadata": {},
   "outputs": [
    {
     "name": "stdout",
     "output_type": "stream",
     "text": [
      "time: 9.14 s\n"
     ]
    }
   ],
   "source": [
    "df = pd.DataFrame.from_dict(dic, orient = 'index')[['AMT','fsa_sum','fsa_fat','fsa_saturated','fsa_sugar','fsa_salt']]\n",
    "df = df.dropna()\n",
    "df['fsa_sum'] = df['fsa_sum'].astype(int)\n",
    "df = df.rename({'fsa_sum': 'FSA Healthiness Score', \n",
    "                'fsa_fat': 'FSA Fat Color Code','fsa_saturated': 'FSA Saturates Color Code', \n",
    "                'fsa_sugar': 'FSA Sugars Color Code', 'fsa_salt': 'FSA Salt Color Code'}, axis = 'columns')"
   ]
  },
  {
   "cell_type": "code",
   "execution_count": 6,
   "metadata": {},
   "outputs": [
    {
     "name": "stdout",
     "output_type": "stream",
     "text": [
      "time: 60.8 ms\n"
     ]
    }
   ],
   "source": [
    "cols = ['FSA Healthiness Score',\n",
    "        'FSA Fat Color Code',\n",
    "        'FSA Saturates Color Code',\n",
    "        'FSA Sugars Color Code',\n",
    "        'FSA Salt Color Code']\n",
    "df['labels'] = ['2_HD' if i ==0 else '1_UD' for i in df.AMT ]\n",
    "df_packed = []\n",
    "for col in cols:\n",
    "    df_temp = df[['labels',col]].rename({col:'score'},axis =1)\n",
    "    df_temp['code'] = col\n",
    "    df_packed.append(df_temp)\n",
    "df_packed = pd.concat(df_packed, axis = 0, sort = False).reset_index(drop=True)"
   ]
  },
  {
   "cell_type": "markdown",
   "metadata": {},
   "source": [
    "because we want UD be in the front of HD, so we place some number in front of the labels "
   ]
  },
  {
   "cell_type": "code",
   "execution_count": 7,
   "metadata": {},
   "outputs": [
    {
     "name": "stderr",
     "output_type": "stream",
     "text": [
      "/home/helena/anaconda3/envs/py36/lib/python3.6/site-packages/scipy/stats/stats.py:1713: FutureWarning: Using a non-tuple sequence for multidimensional indexing is deprecated; use `arr[tuple(seq)]` instead of `arr[seq]`. In the future this will be interpreted as an array index, `arr[np.array(seq)]`, which will result either in an error or a different result.\n",
      "  return np.add.reduce(sorted[indexer] * weights, axis=axis) / sumval\n"
     ]
    },
    {
     "data": {
      "image/png": "[encoded data removed]",
      "text/plain": [
       "<Figure size 432x288 with 2 Axes>"
      ]
     },
     "metadata": {
      "needs_background": "light"
     },
     "output_type": "display_data"
    },
    {
     "name": "stdout",
     "output_type": "stream",
     "text": [
      "time: 1.07 s\n"
     ]
    }
   ],
   "source": [
    "gs = gridspec.GridSpec(1, 2, width_ratios=[3, 1]) \n",
    "clrs = ['#54a1ff','#0a1172']\n",
    "# First\n",
    "plt.subplot(gs[0])\n",
    "ax = sns.barplot(x='code', y='score', hue = 'labels', palette = clrs,\n",
    "                 data = df_packed[df_packed['code']!= 'FSA Healthiness Score'])\n",
    "ax.set_xticklabels(['FSA Fat','FSA Saturates',\"FSA Sugar\",\"FSA Salt\"], \n",
    "                               fontsize=10, rotation=25)\n",
    "ax.set_xlabel('')\n",
    "ax.get_legend().remove()\n",
    "\n",
    "# Second\n",
    "plt.subplot(gs[1])\n",
    "ax = sns.barplot(x='code', y='score', hue = 'labels', palette = clrs,\n",
    "                 data = df_packed[df_packed['code']== 'FSA Healthiness Score'])\n",
    "ax.set_xticklabels(['FSA Healthiness'], fontsize=10, rotation=25)\n",
    "\n",
    "ax.legend(loc='upper right',bbox_to_anchor=(2.5,1))\n",
    "ax.set_xlabel('')\n",
    "ax.set_ylabel('')\n",
    "plt.savefig('../figs/fsa_bar.jpg', bbox_inches='tight')"
   ]
  },
  {
   "cell_type": "code",
   "execution_count": 8,
   "metadata": {},
   "outputs": [
    {
     "name": "stdout",
     "output_type": "stream",
     "text": [
      "((0.0, 'FSA Fat Color Code'), (0.0, 'FSA Healthiness Score')) True 2.909321579334651e-103\n",
      "((0.0, 'FSA Fat Color Code'), (0.0, 'FSA Salt Color Code')) True 0.034387369607780875\n",
      "((0.0, 'FSA Fat Color Code'), (0.0, 'FSA Sugars Color Code')) True 4.810685467994908e-37\n",
      "((0.0, 'FSA Fat Color Code'), (1.0, 'FSA Fat Color Code')) True 4.909721522419432e-05\n",
      "((0.0, 'FSA Fat Color Code'), (1.0, 'FSA Healthiness Score')) True 8.946601891572455e-97\n",
      "((0.0, 'FSA Fat Color Code'), (1.0, 'FSA Salt Color Code')) True 0.0015329276344839432\n",
      "((0.0, 'FSA Fat Color Code'), (1.0, 'FSA Saturates Color Code')) True 6.028679302581831e-09\n",
      "((0.0, 'FSA Fat Color Code'), (1.0, 'FSA Sugars Color Code')) True 7.714223165591333e-26\n",
      "((0.0, 'FSA Healthiness Score'), (0.0, 'FSA Salt Color Code')) True 1.4054565959250182e-137\n",
      "((0.0, 'FSA Healthiness Score'), (0.0, 'FSA Saturates Color Code')) True 6.047982961753928e-131\n",
      "((0.0, 'FSA Healthiness Score'), (0.0, 'FSA Sugars Color Code')) True 3.919830426328241e-263\n",
      "((0.0, 'FSA Healthiness Score'), (1.0, 'FSA Fat Color Code')) True 2.346858990479384e-157\n",
      "((0.0, 'FSA Healthiness Score'), (1.0, 'FSA Salt Color Code')) True 6.096149320971584e-149\n",
      "((0.0, 'FSA Healthiness Score'), (1.0, 'FSA Saturates Color Code')) True 5.771568300364128e-176\n",
      "((0.0, 'FSA Healthiness Score'), (1.0, 'FSA Sugars Color Code')) True 4.0409276671693004e-235\n",
      "((0.0, 'FSA Salt Color Code'), (0.0, 'FSA Sugars Color Code')) True 2.325827778867788e-20\n",
      "((0.0, 'FSA Salt Color Code'), (1.0, 'FSA Healthiness Score')) True 1.804091772521015e-130\n",
      "((0.0, 'FSA Salt Color Code'), (1.0, 'FSA Sugars Color Code')) True 3.859056114440945e-12\n",
      "((0.0, 'FSA Saturates Color Code'), (0.0, 'FSA Sugars Color Code')) True 4.8265858639019814e-23\n",
      "((0.0, 'FSA Saturates Color Code'), (1.0, 'FSA Healthiness Score')) True 6.092831495408775e-124\n",
      "((0.0, 'FSA Saturates Color Code'), (1.0, 'FSA Saturates Color Code')) True 0.012202707173807238\n",
      "((0.0, 'FSA Saturates Color Code'), (1.0, 'FSA Sugars Color Code')) True 2.852718244151966e-14\n",
      "((0.0, 'FSA Sugars Color Code'), (1.0, 'FSA Fat Color Code')) True 5.560868556978726e-15\n",
      "((0.0, 'FSA Sugars Color Code'), (1.0, 'FSA Healthiness Score')) True 7.54088868942924e-255\n",
      "((0.0, 'FSA Sugars Color Code'), (1.0, 'FSA Salt Color Code')) True 9.302960309682052e-18\n",
      "((0.0, 'FSA Sugars Color Code'), (1.0, 'FSA Saturates Color Code')) True 7.557451054774325e-10\n",
      "((1.0, 'FSA Fat Color Code'), (1.0, 'FSA Healthiness Score')) True 6.35022331324148e-150\n",
      "((1.0, 'FSA Fat Color Code'), (1.0, 'FSA Sugars Color Code')) True 6.239426057481192e-08\n",
      "((1.0, 'FSA Healthiness Score'), (1.0, 'FSA Salt Color Code')) True 1.2735311485205981e-141\n",
      "((1.0, 'FSA Healthiness Score'), (1.0, 'FSA Saturates Color Code')) True 2.5972626681208206e-168\n",
      "((1.0, 'FSA Healthiness Score'), (1.0, 'FSA Sugars Color Code')) True 5.789516957957515e-227\n",
      "((1.0, 'FSA Salt Color Code'), (1.0, 'FSA Sugars Color Code')) True 4.863591081162629e-10\n",
      "((1.0, 'FSA Saturates Color Code'), (1.0, 'FSA Sugars Color Code')) True 0.0003183912284319467\n",
      "time: 68.5 ms\n"
     ]
    }
   ],
   "source": [
    "# alltogether dunn and kw\n",
    "from utils.kw_dunn import kw_dunn\n",
    "from itertools import combinations\n",
    "df_m = pd.melt(df, id_vars=['AMT'], value_vars=cols)\n",
    "gb = df_m.groupby(['AMT','variable'])['value'].apply(list)\n",
    "H, p_omnibus, Z_pairs, p_corrected, reject = kw_dunn(gb)\n",
    "names = tuple(gb.index.tolist())\n",
    "for pair, r, p in tuple(zip(list(combinations(names,2)),reject,p_corrected)):\n",
    "    if r:\n",
    "        print(pair,r,p)"
   ]
  },
  {
   "cell_type": "markdown",
   "metadata": {},
   "source": [
    "### correlation experiment"
   ]
  },
  {
   "cell_type": "code",
   "execution_count": 9,
   "metadata": {},
   "outputs": [
    {
     "name": "stdout",
     "output_type": "stream",
     "text": [
      "loading\n",
      "loading\n",
      "loading\n",
      "time: 10.8 s\n"
     ]
    }
   ],
   "source": [
    "df_load = pd.concat([load_google_df(amt['labeled'], name) for name in [\"[2]\",\"[3]\",\"[4]\"]])\n",
    "def amt_EM(df,label_convert):\n",
    "    df = df[['Input.id','WorkerId','Answer.Your answer.label']]\n",
    "    df = df.assign(label= df['Answer.Your answer.label'].map(label_convert))\n",
    "    df = df.dropna()\n",
    "    df = df[['WorkerId','Input.id','label']].rename({'WorkerId':'Annotator','Input.id':'Question','Annotation':'label'}, axis = 1)\n",
    "    return df\n",
    "\n",
    "label_convert = dict(zip(['1 - Strongly Disagree','2','3','4',\n",
    "                      '5 - Strongly Agree','Not Sure'], [1,2,3,4,5,np.nan]))\n",
    "df_EM = amt_EM(df_load, label_convert)\n",
    "\n",
    "df_EM['id'] = df_EM['Question'].apply(lambda x: int(''.join(filter(str.isdigit, x))))"
   ]
  },
  {
   "cell_type": "code",
   "execution_count": 12,
   "metadata": {},
   "outputs": [
    {
     "data": {
      "text/html": [
       "<div>\n",
       "<style scoped>\n",
       "    .dataframe tbody tr th:only-of-type {\n",
       "        vertical-align: middle;\n",
       "    }\n",
       "\n",
       "    .dataframe tbody tr th {\n",
       "        vertical-align: top;\n",
       "    }\n",
       "\n",
       "    .dataframe thead th {\n",
       "        text-align: right;\n",
       "    }\n",
       "</style>\n",
       "<table border=\"1\" class=\"dataframe\">\n",
       "  <thead>\n",
       "    <tr style=\"text-align: right;\">\n",
       "      <th></th>\n",
       "      <th>score</th>\n",
       "      <th>correlation</th>\n",
       "      <th>p-value</th>\n",
       "    </tr>\n",
       "  </thead>\n",
       "  <tbody>\n",
       "    <tr>\n",
       "      <th>0</th>\n",
       "      <td>FSA Healthiness Score</td>\n",
       "      <td>0.033</td>\n",
       "      <td>0.299</td>\n",
       "    </tr>\n",
       "    <tr>\n",
       "      <th>1</th>\n",
       "      <td>FSA Fat Color Code</td>\n",
       "      <td>0.055</td>\n",
       "      <td>0.083</td>\n",
       "    </tr>\n",
       "    <tr>\n",
       "      <th>2</th>\n",
       "      <td>FSA Saturates Color Code</td>\n",
       "      <td>0.019</td>\n",
       "      <td>0.545</td>\n",
       "    </tr>\n",
       "    <tr>\n",
       "      <th>3</th>\n",
       "      <td>FSA Sugars Color Code</td>\n",
       "      <td>-0.020</td>\n",
       "      <td>0.528</td>\n",
       "    </tr>\n",
       "    <tr>\n",
       "      <th>4</th>\n",
       "      <td>FSA Salt Color Code</td>\n",
       "      <td>0.015</td>\n",
       "      <td>0.640</td>\n",
       "    </tr>\n",
       "  </tbody>\n",
       "</table>\n",
       "</div>"
      ],
      "text/plain": [
       "                      score  correlation  p-value\n",
       "0     FSA Healthiness Score        0.033    0.299\n",
       "1        FSA Fat Color Code        0.055    0.083\n",
       "2  FSA Saturates Color Code        0.019    0.545\n",
       "3     FSA Sugars Color Code       -0.020    0.528\n",
       "4       FSA Salt Color Code        0.015    0.640"
      ]
     },
     "execution_count": 12,
     "metadata": {},
     "output_type": "execute_result"
    },
    {
     "name": "stdout",
     "output_type": "stream",
     "text": [
      "time: 3.14 s\n"
     ]
    }
   ],
   "source": [
    "average_rating = df_EM.groupby('id')[['label']].mean().loc[ls]\n",
    "\n",
    "after_DS = pd.read_csv('../data/predict.csv').iloc[1:]\n",
    "after_DS['id'] = after_DS['Question'].apply(lambda x: int(''.join(filter(str.isdigit,x))))\n",
    "after_DS['GI'] = after_DS['Annotation'].apply(lambda x: int(''.join(filter(str.isdigit,x))))\n",
    "after_DS = after_DS.set_index('id').loc[ls].sort_index()\n",
    "\n",
    "correlation_tb = []\n",
    "for col in cols:\n",
    "    r, p =pearsonr(df[col], average_rating.label.values)\n",
    "    row = col, round(r,3), round(p, 3)\n",
    "    correlation_tb.append(row)\n",
    "pd.DataFrame(correlation_tb, columns = ['score', 'correlation','p-value'])"
   ]
  },
  {
   "cell_type": "code",
   "execution_count": 13,
   "metadata": {},
   "outputs": [
    {
     "data": {
      "text/html": [
       "<div>\n",
       "<style scoped>\n",
       "    .dataframe tbody tr th:only-of-type {\n",
       "        vertical-align: middle;\n",
       "    }\n",
       "\n",
       "    .dataframe tbody tr th {\n",
       "        vertical-align: top;\n",
       "    }\n",
       "\n",
       "    .dataframe thead th {\n",
       "        text-align: right;\n",
       "    }\n",
       "</style>\n",
       "<table border=\"1\" class=\"dataframe\">\n",
       "  <thead>\n",
       "    <tr style=\"text-align: right;\">\n",
       "      <th></th>\n",
       "      <th>score</th>\n",
       "      <th>correlation</th>\n",
       "      <th>p-value</th>\n",
       "    </tr>\n",
       "  </thead>\n",
       "  <tbody>\n",
       "    <tr>\n",
       "      <th>0</th>\n",
       "      <td>FSA Healthiness Score</td>\n",
       "      <td>-0.146</td>\n",
       "      <td>0.000</td>\n",
       "    </tr>\n",
       "    <tr>\n",
       "      <th>1</th>\n",
       "      <td>FSA Fat Color Code</td>\n",
       "      <td>-0.238</td>\n",
       "      <td>0.000</td>\n",
       "    </tr>\n",
       "    <tr>\n",
       "      <th>2</th>\n",
       "      <td>FSA Saturates Color Code</td>\n",
       "      <td>-0.156</td>\n",
       "      <td>0.000</td>\n",
       "    </tr>\n",
       "    <tr>\n",
       "      <th>3</th>\n",
       "      <td>FSA Sugars Color Code</td>\n",
       "      <td>0.110</td>\n",
       "      <td>0.001</td>\n",
       "    </tr>\n",
       "    <tr>\n",
       "      <th>4</th>\n",
       "      <td>FSA Salt Color Code</td>\n",
       "      <td>-0.027</td>\n",
       "      <td>0.392</td>\n",
       "    </tr>\n",
       "  </tbody>\n",
       "</table>\n",
       "</div>"
      ],
      "text/plain": [
       "                      score  correlation  p-value\n",
       "0     FSA Healthiness Score       -0.146    0.000\n",
       "1        FSA Fat Color Code       -0.238    0.000\n",
       "2  FSA Saturates Color Code       -0.156    0.000\n",
       "3     FSA Sugars Color Code        0.110    0.001\n",
       "4       FSA Salt Color Code       -0.027    0.392"
      ]
     },
     "execution_count": 13,
     "metadata": {},
     "output_type": "execute_result"
    },
    {
     "name": "stdout",
     "output_type": "stream",
     "text": [
      "time: 40.1 ms\n"
     ]
    }
   ],
   "source": [
    "correlation_tb = []\n",
    "for col in cols:\n",
    "    r, p =pointbiserialr(df['AMT'],df[col])\n",
    "    row = col, round(r,3), round(p, 3)\n",
    "    correlation_tb.append(row)\n",
    "pd.DataFrame(correlation_tb, columns = ['score', 'correlation','p-value'])"
   ]
  },
  {
   "cell_type": "code",
   "execution_count": 14,
   "metadata": {},
   "outputs": [
    {
     "data": {
      "text/html": [
       "<div>\n",
       "<style scoped>\n",
       "    .dataframe tbody tr th:only-of-type {\n",
       "        vertical-align: middle;\n",
       "    }\n",
       "\n",
       "    .dataframe tbody tr th {\n",
       "        vertical-align: top;\n",
       "    }\n",
       "\n",
       "    .dataframe thead th {\n",
       "        text-align: right;\n",
       "    }\n",
       "</style>\n",
       "<table border=\"1\" class=\"dataframe\">\n",
       "  <thead>\n",
       "    <tr style=\"text-align: right;\">\n",
       "      <th></th>\n",
       "      <th>score</th>\n",
       "      <th>correlation</th>\n",
       "      <th>p-value</th>\n",
       "    </tr>\n",
       "  </thead>\n",
       "  <tbody>\n",
       "    <tr>\n",
       "      <th>0</th>\n",
       "      <td>FSA Healthiness Score</td>\n",
       "      <td>0.189</td>\n",
       "      <td>2.050337e-09</td>\n",
       "    </tr>\n",
       "    <tr>\n",
       "      <th>1</th>\n",
       "      <td>FSA Fat Color Code</td>\n",
       "      <td>0.299</td>\n",
       "      <td>6.893988e-22</td>\n",
       "    </tr>\n",
       "    <tr>\n",
       "      <th>2</th>\n",
       "      <td>FSA Saturates Color Code</td>\n",
       "      <td>0.190</td>\n",
       "      <td>1.525909e-09</td>\n",
       "    </tr>\n",
       "    <tr>\n",
       "      <th>3</th>\n",
       "      <td>FSA Sugars Color Code</td>\n",
       "      <td>-0.280</td>\n",
       "      <td>2.804761e-19</td>\n",
       "    </tr>\n",
       "    <tr>\n",
       "      <th>4</th>\n",
       "      <td>FSA Salt Color Code</td>\n",
       "      <td>0.148</td>\n",
       "      <td>3.073661e-06</td>\n",
       "    </tr>\n",
       "  </tbody>\n",
       "</table>\n",
       "</div>"
      ],
      "text/plain": [
       "                      score  correlation       p-value\n",
       "0     FSA Healthiness Score        0.189  2.050337e-09\n",
       "1        FSA Fat Color Code        0.299  6.893988e-22\n",
       "2  FSA Saturates Color Code        0.190  1.525909e-09\n",
       "3     FSA Sugars Color Code       -0.280  2.804761e-19\n",
       "4       FSA Salt Color Code        0.148  3.073661e-06"
      ]
     },
     "execution_count": 14,
     "metadata": {},
     "output_type": "execute_result"
    },
    {
     "name": "stdout",
     "output_type": "stream",
     "text": [
      "time: 39.2 ms\n"
     ]
    }
   ],
   "source": [
    "correlation_tb = []\n",
    "for col in cols:\n",
    "    r, p =pearsonr(df[col], after_DS['GI'])\n",
    "    row = col, round(r,3), p\n",
    "    correlation_tb.append(row)\n",
    "pd.DataFrame(correlation_tb, columns = ['score', 'correlation','p-value'])"
   ]
  },
  {
   "cell_type": "markdown",
   "metadata": {},
   "source": [
    "### check nutriton distribution"
   ]
  },
  {
   "cell_type": "code",
   "execution_count": 15,
   "metadata": {},
   "outputs": [
    {
     "name": "stdout",
     "output_type": "stream",
     "text": [
      "time: 6.46 s\n"
     ]
    }
   ],
   "source": [
    "nu_table = pd.DataFrame.from_dict(dic, orient = 'index')\n",
    "dw = [col for col in nu_table.columns if 'dry_weight' in col]\n",
    "dw.remove('dry_weight')\n",
    "nu_table = nu_table[dw+['AMT']]\n",
    "nu_table = nu_table.dropna()\n",
    "nu_table = nu_table.rename(dict(zip(dw, [col[:-11] for col in dw])), axis = 1)\n",
    "nu_table['labels'] = ['HD' if i ==0 else 'UD' for i in nu_table.AMT ]"
   ]
  },
  {
   "cell_type": "code",
   "execution_count": 16,
   "metadata": {},
   "outputs": [
    {
     "name": "stderr",
     "output_type": "stream",
     "text": [
      "/home/helena/anaconda3/envs/py36/lib/python3.6/site-packages/scipy/stats/stats.py:1713: FutureWarning: Using a non-tuple sequence for multidimensional indexing is deprecated; use `arr[tuple(seq)]` instead of `arr[seq]`. In the future this will be interpreted as an array index, `arr[np.array(seq)]`, which will result either in an error or a different result.\n",
      "  return np.add.reduce(sorted[indexer] * weights, axis=axis) / sumval\n"
     ]
    },
    {
     "data": {
      "image/png": "[encoded data removed]",
      "text/plain": [
       "<Figure size 719.775x216 with 3 Axes>"
      ]
     },
     "metadata": {
      "needs_background": "light"
     },
     "output_type": "display_data"
    },
    {
     "name": "stdout",
     "output_type": "stream",
     "text": [
      "time: 855 ms\n"
     ]
    }
   ],
   "source": [
    "plt.rcParams.update({'font.size': 14})\n",
    "clrs = ['#54a1ff','#0a1172']\n",
    "mnu_table = pd.melt(nu_table, id_vars=['labels'], \n",
    "                    value_vars = ['protein', 'total carbohydrates','total fat'])\n",
    "mnu_table = mnu_table.rename({'variable':'nutrition','value':'Value/Dry weight'}, axis=1)\n",
    "d = {'hist_kws':[{'alpha':0.8},{'histtype':'step', 'alpha':1}]}\n",
    "g = sns.FacetGrid(mnu_table, col = 'nutrition', hue = 'labels', \n",
    "                  palette = clrs, col_wrap = 3,\n",
    "                 hue_kws = d)\n",
    "g = (g.map(sns.distplot, 'Value/Dry weight', kde = False, norm_hist = True).add_legend().set_titles(\"{col_name}\"))\n",
    "\n",
    "plt.savefig('../figs/nu_part1.jpg', bbox_inches='tight')"
   ]
  },
  {
   "cell_type": "code",
   "execution_count": 17,
   "metadata": {},
   "outputs": [
    {
     "name": "stderr",
     "output_type": "stream",
     "text": [
      "/home/helena/anaconda3/envs/py36/lib/python3.6/site-packages/scipy/stats/stats.py:1713: FutureWarning: Using a non-tuple sequence for multidimensional indexing is deprecated; use `arr[tuple(seq)]` instead of `arr[seq]`. In the future this will be interpreted as an array index, `arr[np.array(seq)]`, which will result either in an error or a different result.\n",
      "  return np.add.reduce(sorted[indexer] * weights, axis=axis) / sumval\n"
     ]
    },
    {
     "data": {
      "image/png": "[encoded data removed]",
      "text/plain": [
       "<Figure size 432x216 with 2 Axes>"
      ]
     },
     "metadata": {
      "needs_background": "light"
     },
     "output_type": "display_data"
    },
    {
     "name": "stdout",
     "output_type": "stream",
     "text": [
      "time: 608 ms\n"
     ]
    }
   ],
   "source": [
    "mnu_table = pd.melt(nu_table, id_vars=['labels'], \n",
    "                    value_vars = ['sugars','dietary fiber'])\n",
    "mnu_table = mnu_table.rename({'variable':'nutrition','value':'Value/Dry weight'}, axis=1)\n",
    "g = sns.FacetGrid(mnu_table, col = 'nutrition', hue = 'labels', \n",
    "                  palette = clrs, hue_kws = d)\n",
    "g = (g.map(sns.distplot, 'Value/Dry weight', kde = False, norm_hist = True).set_titles(\"{col_name}\"))\n",
    "plt.savefig('../figs/nu_part2.jpg', bbox_inches='tight')"
   ]
  },
  {
   "cell_type": "code",
   "execution_count": 18,
   "metadata": {},
   "outputs": [
    {
     "name": "stderr",
     "output_type": "stream",
     "text": [
      "/home/helena/anaconda3/envs/py36/lib/python3.6/site-packages/scipy/stats/stats.py:1713: FutureWarning: Using a non-tuple sequence for multidimensional indexing is deprecated; use `arr[tuple(seq)]` instead of `arr[seq]`. In the future this will be interpreted as an array index, `arr[np.array(seq)]`, which will result either in an error or a different result.\n",
      "  return np.add.reduce(sorted[indexer] * weights, axis=axis) / sumval\n"
     ]
    },
    {
     "data": {
      "image/png": "[encoded data removed]",
      "text/plain": [
       "<Figure size 216x216 with 1 Axes>"
      ]
     },
     "metadata": {
      "needs_background": "light"
     },
     "output_type": "display_data"
    },
    {
     "name": "stdout",
     "output_type": "stream",
     "text": [
      "time: 364 ms\n"
     ]
    }
   ],
   "source": [
    "mnu_table = pd.melt(nu_table, id_vars=['labels'], \n",
    "                    value_vars = ['calorie'])\n",
    "mnu_table = mnu_table.rename({'variable':'nutrition','value':'Value/Dry weight'}, axis=1)\n",
    "g = sns.FacetGrid(mnu_table, col = 'nutrition', hue = 'labels', \n",
    "                  palette = clrs, hue_kws = d)\n",
    "g = (g.map(sns.distplot, 'Value/Dry weight', kde = False, norm_hist = True).set_titles(\"{col_name}\"))\n",
    "plt.savefig('../figs/nu_part3.jpg', bbox_inches='tight')"
   ]
  },
  {
   "cell_type": "code",
   "execution_count": 21,
   "metadata": {},
   "outputs": [
    {
     "name": "stdout",
     "output_type": "stream",
     "text": [
      "total carbohydrates\n",
      "Ttest_indResult(statistic=-21.49515789510792, pvalue=2.186851321858751e-84)\n",
      "protein\n",
      "Ttest_indResult(statistic=13.504570179250019, pvalue=2.906974846562797e-38)\n",
      "total fat\n",
      "Ttest_indResult(statistic=11.0990097026159, pvalue=4.671890780289935e-27)\n",
      "sugars\n",
      "Ttest_indResult(statistic=-5.226809362994697, pvalue=2.1040911000809988e-07)\n",
      "dietary fiber\n",
      "Ttest_indResult(statistic=1.2657940098094944, pvalue=0.2058852373857447)\n",
      "calorie\n",
      "Ttest_indResult(statistic=3.723771840924853, pvalue=0.00020736832423525807)\n",
      "time: 55.7 ms\n"
     ]
    }
   ],
   "source": [
    "six = ['total carbohydrates','protein','total fat','sugars','dietary fiber','calorie']\n",
    "for col in six:\n",
    "    print(col)\n",
    "    groups = nu_table.groupby('AMT').agg(col).apply(lambda x: list(x))\n",
    "    ts = stats.ttest_ind(groups[0], groups[1])\n",
    "    print(ts)"
   ]
  },
  {
   "cell_type": "code",
   "execution_count": null,
   "metadata": {},
   "outputs": [],
   "source": []
  }
 ],
 "metadata": {
  "kernelspec": {
   "display_name": "Python 3",
   "language": "python",
   "name": "python3"
  },
  "language_info": {
   "codemirror_mode": {
    "name": "ipython",
    "version": 3
   },
   "file_extension": ".py",
   "mimetype": "text/x-python",
   "name": "python",
   "nbconvert_exporter": "python",
   "pygments_lexer": "ipython3",
   "version": "3.6.5"
  }
 },
 "nbformat": 4,
 "nbformat_minor": 2
}
