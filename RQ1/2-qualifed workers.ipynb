{
 "cells": [
  {
   "cell_type": "markdown",
   "metadata": {},
   "source": [
    "### Find the qualified workers (criteria: correctly answer at least 4 out of 6 questions)\n",
    "In this notebook, we checked the answers of AMT workers.\n"
   ]
  },
  {
   "cell_type": "code",
   "execution_count": 4,
   "metadata": {},
   "outputs": [
    {
     "name": "stdout",
     "output_type": "stream",
     "text": [
      "CPU times: user 0 ns, sys: 0 ns, total: 0 ns\n",
      "Wall time: 8.34 µs\n",
      "The autotime extension is already loaded. To reload it, use:\n",
      "  %reload_ext autotime\n",
      "The autoreload extension is already loaded. To reload it, use:\n",
      "  %reload_ext autoreload\n",
      "time: 1.26 s\n"
     ]
    }
   ],
   "source": [
    "%time\n",
    "%load_ext autotime\n",
    "%load_ext autoreload\n",
    "%autoreload 2\n",
    "\n",
    "# add path\n",
    "import os \n",
    "import sys \n",
    "parent_dir = os.path.abspath(os.getcwd()+'/..')+'/' \n",
    "sys.path.append(parent_dir) \n",
    "\n",
    "# main\n",
    "from utils.path import dir_HugeFiles\n",
    "from utils.preprocessing import load, preprocessing\n",
    "from utils.save import make_dir, save_pickle, load_pickle, auto_save_csv\n",
    "from utils.word2vec import train_wordvec\n",
    "from sync_google.access_gsheet import save_to_google, amt, load_google_df\n",
    "from statsmodels.stats.inter_rater import fleiss_kappa\n",
    "\n",
    "import pandas as pd\n",
    "import numpy as np\n",
    "import seaborn as sns"
   ]
  },
  {
   "cell_type": "code",
   "execution_count": 10,
   "metadata": {},
   "outputs": [
    {
     "name": "stdout",
     "output_type": "stream",
     "text": [
      "time: 21.7 ms\n"
     ]
    }
   ],
   "source": [
    "standard_ans = {'1':['E'],'2':['C'],'3':['B'],'4':['A'], '5':['A','B'], '6': ['D','E']}"
   ]
  },
  {
   "cell_type": "markdown",
   "metadata": {},
   "source": [
    "we release the qualification assessments in two batches"
   ]
  },
  {
   "cell_type": "code",
   "execution_count": 6,
   "metadata": {},
   "outputs": [
    {
     "name": "stdout",
     "output_type": "stream",
     "text": [
      "time: 24 ms\n"
     ]
    }
   ],
   "source": [
    "def qualification(df):\n",
    "    completed_worker = df.groupby('WorkerId')['HITId'].count()==6\n",
    "    completed_worker = completed_worker[completed_worker==True].index\n",
    "\n",
    "    temp = df[['WorkerId','Input.id','Answer.Your answer.label']].to_dict(orient = 'index')\n",
    "    new_dict = {}\n",
    "    for i,v in temp.items():\n",
    "        if v['WorkerId'] in completed_worker:\n",
    "            correct_ans = standard_ans[v['Input.id'][12]]\n",
    "            v['compare'] = (v['Answer.Your answer.label'] in correct_ans)\n",
    "            new_dict[i] = v\n",
    "\n",
    "    temp_df = pd.DataFrame.from_dict(new_dict,orient = 'index').sort_values(['WorkerId'])\n",
    "    stats = temp_df.groupby('WorkerId').sum().unstack()\n",
    "    goodworker = stats[stats>=4]\n",
    "    print('%d / %d passed' % (len(goodworker), len(completed_worker)))\n",
    "    return goodworker, completed_worker"
   ]
  },
  {
   "cell_type": "code",
   "execution_count": 7,
   "metadata": {},
   "outputs": [
    {
     "name": "stdout",
     "output_type": "stream",
     "text": [
      "loading\n",
      "8 / 16 passed\n"
     ]
    },
    {
     "data": {
      "text/plain": [
       "(         WorkerId      \n",
       " compare  A1DHL4XO3VT7TR    6.0\n",
       "          A1NBHCFZKJGHKW    5.0\n",
       "          A1SX8IVV82M0LW    6.0\n",
       "          A1Z9JTGIP4A03J    5.0\n",
       "          A37WDOIQH6JM6V    4.0\n",
       "          A3JBAUWN5T7E0Q    4.0\n",
       "          A3LL096CAY5WHB    4.0\n",
       "          A6FE2ZQNFW12V     4.0\n",
       " dtype: float64,\n",
       " Index(['A1CA46R2A6TV9W', 'A1DHL4XO3VT7TR', 'A1DXFMUVK5015A', 'A1MHQSP1POQNXX',\n",
       "        'A1NBHCFZKJGHKW', 'A1SX8IVV82M0LW', 'A1V9MN88VQ1LEB', 'A1YSW3SQ2LYDB2',\n",
       "        'A1Z9JTGIP4A03J', 'A2FV8JJVCJYNS7', 'A2YRIFGU82QHW', 'A31VO6LWUEE9F9',\n",
       "        'A37WDOIQH6JM6V', 'A3JBAUWN5T7E0Q', 'A3LL096CAY5WHB', 'A6FE2ZQNFW12V'],\n",
       "       dtype='object', name='WorkerId'))"
      ]
     },
     "execution_count": 7,
     "metadata": {},
     "output_type": "execute_result"
    },
    {
     "name": "stdout",
     "output_type": "stream",
     "text": [
      "time: 2.07 s\n"
     ]
    }
   ],
   "source": [
    "qualification(load_google_df(amt['qualify'],'batch1'))"
   ]
  },
  {
   "cell_type": "code",
   "execution_count": 8,
   "metadata": {},
   "outputs": [
    {
     "name": "stdout",
     "output_type": "stream",
     "text": [
      "loading\n",
      "12 / 25 passed\n"
     ]
    },
    {
     "data": {
      "text/plain": [
       "(         WorkerId      \n",
       " compare  A1FQGVP8SX5WE2    4.0\n",
       "          A1KFTQRBMXSC13    5.0\n",
       "          A1VE1CAMPSYRHE    4.0\n",
       "          A1YXQDZYCKILTT    4.0\n",
       "          A1ZD8RU6YB0VEU    4.0\n",
       "          A2G7F16RAOFTXG    5.0\n",
       "          A2M1CVZZJAN4T4    5.0\n",
       "          A3ES33ODBJVKO3    5.0\n",
       "          A3UUH3632AI3ZX    4.0\n",
       "          ANFWGSQ8BQRZ      4.0\n",
       "          APKZZ03P89DHY     4.0\n",
       "          AQORJW4W8U9YU     4.0\n",
       " dtype: float64,\n",
       " Index(['A14OPFM8OFA4WF', 'A1FQGVP8SX5WE2', 'A1FS8SBR4SDWYG', 'A1G15BBIUNNN0B',\n",
       "        'A1KFTQRBMXSC13', 'A1RQGFLPAFX8IB', 'A1VE1CAMPSYRHE', 'A1YXQDZYCKILTT',\n",
       "        'A1ZD8RU6YB0VEU', 'A2ENGC389KC9U2', 'A2G7F16RAOFTXG', 'A2M1CVZZJAN4T4',\n",
       "        'A2P065E9CYMYJL', 'A326O3VWP8TO8N', 'A3ES33ODBJVKO3', 'A3UUH3632AI3ZX',\n",
       "        'A3UZW1NTOX6I15', 'AFQKLIYNCVZTL', 'AFU00NU09CFXE', 'AHT8HA3JRWVGV',\n",
       "        'AJ2BOHOPWZQNE', 'ANFWGSQ8BQRZ', 'APKZZ03P89DHY', 'AQORJW4W8U9YU',\n",
       "        'AZLZA0Q87TJZO'],\n",
       "       dtype='object', name='WorkerId'))"
      ]
     },
     "execution_count": 8,
     "metadata": {},
     "output_type": "execute_result"
    },
    {
     "name": "stdout",
     "output_type": "stream",
     "text": [
      "time: 2.48 s\n"
     ]
    }
   ],
   "source": [
    "qualification(load_google_df(amt['qualify'],'batch2'))"
   ]
  },
  {
   "cell_type": "markdown",
   "metadata": {},
   "source": [
    "### overall, 16+25 workers completed the task, and only 12+8 passed the task and invited to our experiment"
   ]
  },
  {
   "cell_type": "code",
   "execution_count": null,
   "metadata": {},
   "outputs": [],
   "source": []
  }
 ],
 "metadata": {
  "kernelspec": {
   "display_name": "Python 3",
   "language": "python",
   "name": "python3"
  },
  "language_info": {
   "codemirror_mode": {
    "name": "ipython",
    "version": 3
   },
   "file_extension": ".py",
   "mimetype": "text/x-python",
   "name": "python",
   "nbconvert_exporter": "python",
   "pygments_lexer": "ipython3",
   "version": "3.6.6"
  }
 },
 "nbformat": 4,
 "nbformat_minor": 2
}
