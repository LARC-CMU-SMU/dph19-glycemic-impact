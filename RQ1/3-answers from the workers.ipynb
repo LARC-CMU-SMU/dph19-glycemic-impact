{
 "cells": [
  {
   "cell_type": "markdown",
   "metadata": {},
   "source": [
    "### After getting the answers from AMT\n",
    "we aggregate the labelling and check the krippendorff's alpha. <br>\n",
    "Them, we use dawid skene algorithmn (standard, not fast) to derive the ground truth"
   ]
  },
  {
   "cell_type": "code",
   "execution_count": 1,
   "metadata": {},
   "outputs": [
    {
     "name": "stdout",
     "output_type": "stream",
     "text": [
      "CPU times: user 0 ns, sys: 0 ns, total: 0 ns\n",
      "Wall time: 5.01 µs\n"
     ]
    }
   ],
   "source": [
    "%time\n",
    "%load_ext autotime\n",
    "%load_ext autoreload\n",
    "%autoreload 2\n",
    "\n",
    "# add path\n",
    "import os \n",
    "import sys \n",
    "parent_dir = os.path.abspath(os.getcwd()+'/..')+'/' \n",
    "sys.path.append(parent_dir) \n",
    "\n",
    "from utils.path import dir_HugeFiles\n",
    "from utils.preprocessing import load\n",
    "from utils.save import make_dir, save_pickle, load_pickle, auto_save_csv\n",
    "import krippendorff\n",
    "\n",
    "import pandas as pd\n",
    "import numpy as np\n",
    "import seaborn as sns"
   ]
  },
  {
   "cell_type": "markdown",
   "metadata": {},
   "source": [
    "### load the data\n",
    "Becasue there are three batches of recipe evaluation, so we need to concatenate the files in to one dataframe"
   ]
  },
  {
   "cell_type": "code",
   "execution_count": 10,
   "metadata": {},
   "outputs": [
    {
     "name": "stdout",
     "output_type": "stream",
     "text": [
      "time: 31.2 ms\n"
     ]
    }
   ],
   "source": [
    "#from sync_google.access_gsheet import save_to_google, amt, load_google_df\n",
    "#df = pd.concat([load_google_df(amt['labeled'], name) for name in [\"[2]\",\"[3]\",\"[4]\"]])\n",
    "#df.to_csv('../data/labeled.csv',index=False)"
   ]
  },
  {
   "cell_type": "code",
   "execution_count": 2,
   "metadata": {},
   "outputs": [
    {
     "name": "stdout",
     "output_type": "stream",
     "text": [
      "time: 151 ms\n"
     ]
    }
   ],
   "source": [
    "df = pd.read_csv('../data/labeled.csv')"
   ]
  },
  {
   "cell_type": "markdown",
   "metadata": {},
   "source": [
    "### check the consistence of answers using krippendorff's alpha"
   ]
  },
  {
   "cell_type": "code",
   "execution_count": 3,
   "metadata": {},
   "outputs": [
    {
     "data": {
      "text/plain": [
       "0.46679154192779304"
      ]
     },
     "execution_count": 3,
     "metadata": {},
     "output_type": "execute_result"
    },
    {
     "name": "stdout",
     "output_type": "stream",
     "text": [
      "time: 64.1 ms\n"
     ]
    }
   ],
   "source": [
    "def amt_alpha(df,label_convert):\n",
    "    df = df[['Input.id','WorkerId','Answer.Your answer.label']]\n",
    "    df = df.assign(label= df['Answer.Your answer.label'].map(label_convert))\n",
    "    df = df.dropna()\n",
    "    return pd.pivot_table(df, values = 'label', index = ['WorkerId'], columns =['Input.id'])\n",
    "label_convert = dict(zip(['1 - Strongly Disagree','2','3','4',\n",
    "                      '5 - Strongly Agree','Not Sure'], [1,2,3,4,5,np.nan]))\n",
    "df_alpha = amt_alpha(df, label_convert)\n",
    "krippendorff.alpha(df_alpha.values)"
   ]
  },
  {
   "cell_type": "markdown",
   "metadata": {},
   "source": [
    "### some preprocessing"
   ]
  },
  {
   "cell_type": "code",
   "execution_count": 4,
   "metadata": {},
   "outputs": [
    {
     "name": "stdout",
     "output_type": "stream",
     "text": [
      "time: 18.4 ms\n"
     ]
    }
   ],
   "source": [
    "def amt_EM(df,label_convert):\n",
    "    df = df[['Input.id','WorkerId','Answer.Your answer.label']]\n",
    "    df = df.assign(label= df['Answer.Your answer.label'].map(label_convert))\n",
    "    df = df.dropna()\n",
    "    df = df[['WorkerId','Input.id','label']].rename({'WorkerId':'Annotator','Input.id':'Question','Annotation':'label'},axis = 1)\n",
    "    return df"
   ]
  },
  {
   "cell_type": "code",
   "execution_count": 5,
   "metadata": {},
   "outputs": [
    {
     "name": "stdout",
     "output_type": "stream",
     "text": [
      "time: 21.2 ms\n"
     ]
    }
   ],
   "source": [
    "label_convert = dict(zip(['1 - Strongly Disagree','2','3','4',\n",
    "                      '5 - Strongly Agree','Not Sure'], ['A1','A2','A3','A4','A5','A6']))\n",
    "df_EM = amt_EM(df, label_convert)"
   ]
  },
  {
   "cell_type": "code",
   "execution_count": 6,
   "metadata": {},
   "outputs": [
    {
     "data": {
      "text/html": [
       "<div>\n",
       "<style scoped>\n",
       "    .dataframe tbody tr th:only-of-type {\n",
       "        vertical-align: middle;\n",
       "    }\n",
       "\n",
       "    .dataframe tbody tr th {\n",
       "        vertical-align: top;\n",
       "    }\n",
       "\n",
       "    .dataframe thead th {\n",
       "        text-align: right;\n",
       "    }\n",
       "</style>\n",
       "<table border=\"1\" class=\"dataframe\">\n",
       "  <thead>\n",
       "    <tr style=\"text-align: right;\">\n",
       "      <th></th>\n",
       "      <th>Question</th>\n",
       "      <th>label</th>\n",
       "    </tr>\n",
       "    <tr>\n",
       "      <th>Annotator</th>\n",
       "      <th></th>\n",
       "      <th></th>\n",
       "    </tr>\n",
       "  </thead>\n",
       "  <tbody>\n",
       "    <tr>\n",
       "      <th>A1NBHCFZKJGHKW</th>\n",
       "      <td>997</td>\n",
       "      <td>997</td>\n",
       "    </tr>\n",
       "    <tr>\n",
       "      <th>A1SX8IVV82M0LW</th>\n",
       "      <td>3</td>\n",
       "      <td>3</td>\n",
       "    </tr>\n",
       "    <tr>\n",
       "      <th>A1VE1CAMPSYRHE</th>\n",
       "      <td>216</td>\n",
       "      <td>216</td>\n",
       "    </tr>\n",
       "    <tr>\n",
       "      <th>A1YXQDZYCKILTT</th>\n",
       "      <td>858</td>\n",
       "      <td>858</td>\n",
       "    </tr>\n",
       "    <tr>\n",
       "      <th>A1ZD8RU6YB0VEU</th>\n",
       "      <td>154</td>\n",
       "      <td>154</td>\n",
       "    </tr>\n",
       "    <tr>\n",
       "      <th>A37WDOIQH6JM6V</th>\n",
       "      <td>168</td>\n",
       "      <td>168</td>\n",
       "    </tr>\n",
       "    <tr>\n",
       "      <th>A6FE2ZQNFW12V</th>\n",
       "      <td>601</td>\n",
       "      <td>601</td>\n",
       "    </tr>\n",
       "    <tr>\n",
       "      <th>Helena</th>\n",
       "      <td>3</td>\n",
       "      <td>3</td>\n",
       "    </tr>\n",
       "  </tbody>\n",
       "</table>\n",
       "</div>"
      ],
      "text/plain": [
       "                Question  label\n",
       "Annotator                      \n",
       "A1NBHCFZKJGHKW       997    997\n",
       "A1SX8IVV82M0LW         3      3\n",
       "A1VE1CAMPSYRHE       216    216\n",
       "A1YXQDZYCKILTT       858    858\n",
       "A1ZD8RU6YB0VEU       154    154\n",
       "A37WDOIQH6JM6V       168    168\n",
       "A6FE2ZQNFW12V        601    601\n",
       "Helena                 3      3"
      ]
     },
     "execution_count": 6,
     "metadata": {},
     "output_type": "execute_result"
    },
    {
     "name": "stdout",
     "output_type": "stream",
     "text": [
      "time: 25.2 ms\n"
     ]
    }
   ],
   "source": [
    "df_EM.groupby('Annotator').count()"
   ]
  },
  {
   "cell_type": "markdown",
   "metadata": {},
   "source": [
    "### send the data to standard dawid skene algorithm, to determine the ground truth\n",
    "we used the implementation of https://github.com/GoodDeeds/Fast-Dawid-Skene <br>"
   ]
  },
  {
   "cell_type": "code",
   "execution_count": 74,
   "metadata": {},
   "outputs": [
    {
     "name": "stdout",
     "output_type": "stream",
     "text": [
      "time: 198 ms\n"
     ]
    }
   ],
   "source": [
    "#df_EM.to_csv('../fast_dawid_skene/data/amt2_dataset/crowd.csv',index=False)"
   ]
  },
  {
   "cell_type": "code",
   "execution_count": 7,
   "metadata": {},
   "outputs": [
    {
     "name": "stdout",
     "output_type": "stream",
     "text": [
      "time: 69.9 ms\n"
     ]
    }
   ],
   "source": [
    "after_DS = pd.read_csv('../data/predict.csv')\n",
    "after_DS = after_DS.iloc[1:]\n",
    "after_DS['id'] = after_DS['Question'].apply(lambda x: int(''.join(filter(str.isdigit, x))))\n",
    "after_DS['GI'] = after_DS['Annotation'].apply(lambda x: int(''.join(filter(str.isdigit, x))))\n",
    "after_DS['AMT'] = after_DS['GI'].apply(lambda x: 0 if x>=4 else 1)"
   ]
  },
  {
   "cell_type": "code",
   "execution_count": 8,
   "metadata": {},
   "outputs": [
    {
     "name": "stdout",
     "output_type": "stream",
     "text": [
      "originally, there are 1000 recipes\n",
      "after dropping the unknowns: 990 recipes \n",
      "there are 506 positive samples where positive means high GI (HD) \n",
      "time: 21.4 ms\n"
     ]
    }
   ],
   "source": [
    "print('originally, there are %d recipes'%len(after_DS))\n",
    "after_DS = after_DS[after_DS.GI!=6]\n",
    "# some of the recipes are labeled as unknown\n",
    "print('after dropping the unknowns: %d recipes '%len(after_DS))\n",
    "print(\"there are %d positive samples where positive means high GI (HD) \"%sum(after_DS.AMT))"
   ]
  },
  {
   "cell_type": "markdown",
   "metadata": {},
   "source": [
    "### Save, this file is equal to ../data/amt_hGI_pos.pickle"
   ]
  },
  {
   "cell_type": "code",
   "execution_count": 17,
   "metadata": {},
   "outputs": [
    {
     "name": "stdout",
     "output_type": "stream",
     "text": [
      "time: 29.7 ms\n"
     ]
    }
   ],
   "source": [
    "# save_pickle(filename = dir_HugeFiles+'dph/amt_GI_20190701.pickle', obj = dict(zip(after_DS.id,after_DS.AMT)), overwrite=False)"
   ]
  },
  {
   "cell_type": "markdown",
   "metadata": {},
   "source": [
    "### Additionally, check what kind of food has a higher inter-rater variability"
   ]
  },
  {
   "cell_type": "code",
   "execution_count": 9,
   "metadata": {},
   "outputs": [
    {
     "name": "stdout",
     "output_type": "stream",
     "text": [
      "time: 11.8 s\n"
     ]
    }
   ],
   "source": [
    "dic = load_pickle('../data/dic_20190819.pickle')\n",
    "amt_GI = load_pickle('../data/amt_hGI_pos.pickle')"
   ]
  },
  {
   "cell_type": "code",
   "execution_count": 10,
   "metadata": {},
   "outputs": [
    {
     "name": "stdout",
     "output_type": "stream",
     "text": [
      "time: 2.03 s\n"
     ]
    }
   ],
   "source": [
    "df_variance = df_alpha.std().sort_values(ascending=False).to_frame().reset_index()\n",
    "df_variance['id'] = df_variance['Input.id'].apply(lambda x: int(x[10:15]))\n",
    "df_variance = df_variance[df_variance['id'].apply(lambda x: x in amt_GI.keys())] # onlu include the recipe990\n",
    "df_variance['name'] = df_variance['id'].apply(lambda x: dic[x]['name'])\n",
    "def fillna(values):\n",
    "    return values[~np.isnan(values)].tolist()\n",
    "df_variance['labels'] = df_variance['Input.id'].apply(lambda x: fillna(df_alpha[x].values))"
   ]
  },
  {
   "cell_type": "code",
   "execution_count": 11,
   "metadata": {},
   "outputs": [
    {
     "data": {
      "text/plain": [
       "0.4712687007830718"
      ]
     },
     "execution_count": 11,
     "metadata": {},
     "output_type": "execute_result"
    },
    {
     "name": "stdout",
     "output_type": "stream",
     "text": [
      "time: 42.3 ms\n"
     ]
    }
   ],
   "source": [
    "# alpha remains the same after eliminating 10 recipes\n",
    "df_alpha990 = df_alpha[['RecipeID: %05d<br>' %i for i in amt_GI.keys()]]\n",
    "krippendorff.alpha(df_alpha990.values)"
   ]
  },
  {
   "cell_type": "code",
   "execution_count": 12,
   "metadata": {},
   "outputs": [
    {
     "name": "stdout",
     "output_type": "stream",
     "text": [
      "cocktail 1.1327274501523443\n",
      "recipe990 0.7231774765640567\n",
      "time: 20.9 ms\n"
     ]
    }
   ],
   "source": [
    "# cocktail are harder to classify\n",
    "df_cocktail = df_variance[df_variance['name'].apply(lambda x: 'cocktail' in x)]\n",
    "print('cocktail', df_cocktail[0].mean())\n",
    "print('recipe990', df_variance[0].mean())"
   ]
  },
  {
   "cell_type": "code",
   "execution_count": 13,
   "metadata": {},
   "outputs": [
    {
     "name": "stdout",
     "output_type": "stream",
     "text": [
      "whole wheat 1.3557330204870983\n",
      "recipe990 0.7231774765640567\n",
      "time: 18.2 ms\n"
     ]
    }
   ],
   "source": [
    "# whole wheat are harder to classify\n",
    "df_ww = df_variance[df_variance['name'].apply(lambda x: 'whole wheat' in x)]\n",
    "print('whole wheat', df_ww[0].mean())\n",
    "print('recipe990', df_variance[0].mean())"
   ]
  },
  {
   "cell_type": "code",
   "execution_count": 14,
   "metadata": {},
   "outputs": [
    {
     "data": {
      "text/html": [
       "<div>\n",
       "<style scoped>\n",
       "    .dataframe tbody tr th:only-of-type {\n",
       "        vertical-align: middle;\n",
       "    }\n",
       "\n",
       "    .dataframe tbody tr th {\n",
       "        vertical-align: top;\n",
       "    }\n",
       "\n",
       "    .dataframe thead th {\n",
       "        text-align: right;\n",
       "    }\n",
       "</style>\n",
       "<table border=\"1\" class=\"dataframe\">\n",
       "  <thead>\n",
       "    <tr style=\"text-align: right;\">\n",
       "      <th></th>\n",
       "      <th>Input.id</th>\n",
       "      <th>0</th>\n",
       "      <th>id</th>\n",
       "      <th>name</th>\n",
       "      <th>labels</th>\n",
       "    </tr>\n",
       "  </thead>\n",
       "  <tbody>\n",
       "    <tr>\n",
       "      <th>1</th>\n",
       "      <td>RecipeID: 12045&lt;br&gt;</td>\n",
       "      <td>2.309401</td>\n",
       "      <td>12045</td>\n",
       "      <td>black russian cocktail</td>\n",
       "      <td>[5.0, 1.0, 1.0]</td>\n",
       "    </tr>\n",
       "    <tr>\n",
       "      <th>3</th>\n",
       "      <td>RecipeID: 14104&lt;br&gt;</td>\n",
       "      <td>2.081666</td>\n",
       "      <td>14104</td>\n",
       "      <td>grilled sherry pork chops</td>\n",
       "      <td>[5.0, 2.0, 1.0]</td>\n",
       "    </tr>\n",
       "    <tr>\n",
       "      <th>4</th>\n",
       "      <td>RecipeID: 06901&lt;br&gt;</td>\n",
       "      <td>2.081666</td>\n",
       "      <td>6901</td>\n",
       "      <td>mexi hominy</td>\n",
       "      <td>[1.0, 4.0, 5.0]</td>\n",
       "    </tr>\n",
       "    <tr>\n",
       "      <th>5</th>\n",
       "      <td>RecipeID: 03770&lt;br&gt;</td>\n",
       "      <td>2.081666</td>\n",
       "      <td>3770</td>\n",
       "      <td>low carb cheesecake</td>\n",
       "      <td>[4.0, 1.0, 5.0]</td>\n",
       "    </tr>\n",
       "    <tr>\n",
       "      <th>6</th>\n",
       "      <td>RecipeID: 04059&lt;br&gt;</td>\n",
       "      <td>2.081666</td>\n",
       "      <td>4059</td>\n",
       "      <td>death in the afternoon</td>\n",
       "      <td>[5.0, 1.0, 4.0]</td>\n",
       "    </tr>\n",
       "  </tbody>\n",
       "</table>\n",
       "</div>"
      ],
      "text/plain": [
       "              Input.id         0     id                       name  \\\n",
       "1  RecipeID: 12045<br>  2.309401  12045     black russian cocktail   \n",
       "3  RecipeID: 14104<br>  2.081666  14104  grilled sherry pork chops   \n",
       "4  RecipeID: 06901<br>  2.081666   6901                mexi hominy   \n",
       "5  RecipeID: 03770<br>  2.081666   3770        low carb cheesecake   \n",
       "6  RecipeID: 04059<br>  2.081666   4059     death in the afternoon   \n",
       "\n",
       "            labels  \n",
       "1  [5.0, 1.0, 1.0]  \n",
       "3  [5.0, 2.0, 1.0]  \n",
       "4  [1.0, 4.0, 5.0]  \n",
       "5  [4.0, 1.0, 5.0]  \n",
       "6  [5.0, 1.0, 4.0]  "
      ]
     },
     "execution_count": 14,
     "metadata": {},
     "output_type": "execute_result"
    },
    {
     "name": "stdout",
     "output_type": "stream",
     "text": [
      "time: 33 ms\n"
     ]
    }
   ],
   "source": [
    "df_variance.head()"
   ]
  },
  {
   "cell_type": "code",
   "execution_count": null,
   "metadata": {},
   "outputs": [],
   "source": []
  }
 ],
 "metadata": {
  "kernelspec": {
   "display_name": "Python 3",
   "language": "python",
   "name": "python3"
  },
  "language_info": {
   "codemirror_mode": {
    "name": "ipython",
    "version": 3
   },
   "file_extension": ".py",
   "mimetype": "text/x-python",
   "name": "python",
   "nbconvert_exporter": "python",
   "pygments_lexer": "ipython3",
   "version": "3.6.5"
  }
 },
 "nbformat": 4,
 "nbformat_minor": 2
}
